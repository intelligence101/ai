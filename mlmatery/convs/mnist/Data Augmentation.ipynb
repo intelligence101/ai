{
 "cells": [
  {
   "cell_type": "markdown",
   "metadata": {},
   "source": [
    "## Image Augmentation for ConvNets "
   ]
  },
  {
   "cell_type": "code",
   "execution_count": 2,
   "metadata": {},
   "outputs": [
    {
     "name": "stderr",
     "output_type": "stream",
     "text": [
      "Using TensorFlow backend.\n"
     ]
    }
   ],
   "source": [
    "from keras.datasets import mnist \n",
    "from matplotlib import pyplot"
   ]
  },
  {
   "cell_type": "code",
   "execution_count": 7,
   "metadata": {
    "collapsed": true
   },
   "outputs": [],
   "source": [
    "from keras.preprocessing.image import ImageDataGenerator\n",
    "from keras import backend as K \n",
    "K.set_image_dim_ordering('th')"
   ]
  },
  {
   "cell_type": "code",
   "execution_count": 3,
   "metadata": {
    "collapsed": true
   },
   "outputs": [],
   "source": [
    "(X_train, y_train), (X_test, y_test) = mnist.load_data()"
   ]
  },
  {
   "cell_type": "code",
   "execution_count": 8,
   "metadata": {},
   "outputs": [
    {
     "data": {
      "image/png": "[encoded data removed]",
      "text/plain": [
       "<matplotlib.figure.Figure at 0x129fb2b0>"
      ]
     },
     "metadata": {},
     "output_type": "display_data"
    }
   ],
   "source": [
    "def show_images(x):\n",
    "    for i in range(0,9):\n",
    "        pyplot.subplot(330 + 1 + i)\n",
    "        pyplot.imshow(x[i], cmap=pyplot.get_cmap('gray'))    \n",
    "    pyplot.show()\n",
    "    \n",
    "show_images(X_train)"
   ]
  },
  {
   "cell_type": "code",
   "execution_count": 17,
   "metadata": {},
   "outputs": [
    {
     "name": "stderr",
     "output_type": "stream",
     "text": [
      "C:\\Users\\vs76289\\AppData\\Local\\Continuum\\Anaconda3\\envs\\kdc\\lib\\site-packages\\keras\\preprocessing\\image.py:648: UserWarning: Expected input to be images (as Numpy array) following the data format convention \"channels_first\" (channels on axis 1), i.e. expected either 1, 3 or 4 channels on axis 1. However, it was passed an array with shape (60000, 1, 28, 28) (1 channels).\n",
      "  ' (' + str(x.shape[self.channel_axis]) + ' channels).')\n"
     ]
    },
    {
     "data": {
      "image/png": "[encoded data removed]",
      "text/plain": [
       "<matplotlib.figure.Figure at 0x12d90080>"
      ]
     },
     "metadata": {},
     "output_type": "display_data"
    }
   ],
   "source": [
    "#### Feature Standardization \n",
    "def feature_standardization():\n",
    "    X_train_fs = X_train.reshape(X_train.shape[0],1,28,28).astype('float32')\n",
    "    X_test_fs = X_test.reshape(X_test.shape[0],1,28,28).astype('float32')\n",
    "    \n",
    "    datagen = ImageDataGenerator(featurewise_center = True,\n",
    "                                 featurewise_std_normalization = True,\n",
    "                                 #zca_whitening = True,\n",
    "                                 rotation_range = 90,\n",
    "                                 width_shift_range = 0.2,\n",
    "                                 height_shift_range = 0.2,\n",
    "                                 horizontal_flip = True,\n",
    "                                 vertical_flip = True\n",
    "                                )\n",
    "    datagen.fit(X_train_fs)\n",
    "    \n",
    "    for X_batch, y_batch in datagen.flow(X_train_fs, y_train, batch_size=9):\n",
    "        for i in range(0,9):\n",
    "            pyplot.subplot(330 + 1 + i)\n",
    "            pyplot.imshow(X_batch[i].reshape(28,28), cmap=pyplot.get_cmap('gray'))    \n",
    "        pyplot.show()\n",
    "        break\n",
    "\n",
    "feature_standardization()"
   ]
  },
  {
   "cell_type": "code",
   "execution_count": null,
   "metadata": {
    "collapsed": true
   },
   "outputs": [],
   "source": []
  }
 ],
 "metadata": {
  "kernelspec": {
   "display_name": "Python 3",
   "language": "python",
   "name": "python3"
  },
  "language_info": {
   "codemirror_mode": {
    "name": "ipython",
    "version": 3
   },
   "file_extension": ".py",
   "mimetype": "text/x-python",
   "name": "python",
   "nbconvert_exporter": "python",
   "pygments_lexer": "ipython3",
   "version": "3.5.3"
  }
 },
 "nbformat": 4,
 "nbformat_minor": 2
}
